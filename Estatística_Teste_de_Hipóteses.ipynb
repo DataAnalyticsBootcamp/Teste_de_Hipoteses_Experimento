{
  "nbformat": 4,
  "nbformat_minor": 0,
  "metadata": {
    "colab": {
      "provenance": [],
      "mount_file_id": "1S5u7ktNxxXxlO514UIfK17kAOIt7DQ8d",
      "authorship_tag": "ABX9TyMcf42gosFTjZDVJKqmXy+g",
      "include_colab_link": true
    },
    "kernelspec": {
      "name": "python3",
      "display_name": "Python 3"
    },
    "language_info": {
      "name": "python"
    }
  },
  "cells": [
    {
      "cell_type": "markdown",
      "metadata": {
        "id": "view-in-github",
        "colab_type": "text"
      },
      "source": [
        "<a href=\"https://colab.research.google.com/github/Sandramcrs08/Teste_de_Hipoteses_Experimento/blob/main/Estat%C3%ADstica_Teste_de_Hip%C3%B3teses.ipynb\" target=\"_parent\"><img src=\"https://colab.research.google.com/assets/colab-badge.svg\" alt=\"Open In Colab\"/></a>"
      ]
    },
    {
      "cell_type": "markdown",
      "source": [
        "Estatística- Teste de Hipóteses Considerando a base de dados experimento_test_ab.csv responda as questões abaixo:\n"
      ],
      "metadata": {
        "id": "dmOrfFK_mcm2"
      }
    },
    {
      "cell_type": "code",
      "execution_count": null,
      "metadata": {
        "id": "rjWKuB2fmXqA"
      },
      "outputs": [],
      "source": [
        "!pip install pandas\n",
        "import pandas as pd\n",
        "import numpy as np\n",
        "from statsmodels.stats.proportion import proportions_ztest\n",
        "from scipy.stats import norm\n"
      ]
    },
    {
      "cell_type": "code",
      "source": [
        "# Carregar os dados\n",
        "dados = pd.read_csv('/experimento_test_ab.csv')\n",
        "\n",
        "# Visualizar os dados\n",
        "print(dados.head())\n"
      ],
      "metadata": {
        "colab": {
          "base_uri": "https://localhost:8080/"
        },
        "id": "Nwxk2GS2doxs",
        "outputId": "097e9c84-89ed-4c19-ed39-e0bc5a7fa55e"
      },
      "execution_count": null,
      "outputs": [
        {
          "output_type": "stream",
          "name": "stdout",
          "text": [
            "   Visitante_ID Versão_Página  Visualizações  Conversões\n",
            "0             1             A            167           1\n",
            "1             2             A            160           0\n",
            "2             3             A            170           0\n",
            "3             4             A            161           1\n",
            "4             5             A            104           0\n"
          ]
        }
      ]
    },
    {
      "cell_type": "code",
      "source": [
        "print(dados.columns)"
      ],
      "metadata": {
        "colab": {
          "base_uri": "https://localhost:8080/"
        },
        "id": "nz1pdbhqgVSr",
        "outputId": "ded2106a-02b2-402e-c1fa-97b42964b7f8"
      },
      "execution_count": null,
      "outputs": [
        {
          "output_type": "stream",
          "name": "stdout",
          "text": [
            "Index(['Visitante_ID', 'Versão_Página', 'Visualizações', 'Conversões'], dtype='object')\n"
          ]
        }
      ]
    },
    {
      "cell_type": "markdown",
      "source": [
        "1. Qual dos cenários tem a maior taxa de conversão?"
      ],
      "metadata": {
        "id": "vaYsKuCgmk7Y"
      }
    },
    {
      "cell_type": "code",
      "source": [
        "# Calcular a taxa de conversão para cada cenário\n",
        "conversao_por_cenario = dados.groupby('Versão_Página')['Conversões'].mean()\n",
        "print(\"\\nTaxa de Conversão por Cenário:\")\n",
        "print(conversao_por_cenario)\n",
        "\n",
        "# Identificar o cenário com a maior taxa de conversão\n",
        "maior_taxa_conversao = conversao_por_cenario.idxmax()\n",
        "print(\"\\nCenário com a Maior Taxa de Conversão:\", maior_taxa_conversao)"
      ],
      "metadata": {
        "colab": {
          "base_uri": "https://localhost:8080/"
        },
        "id": "R66A1Edpf5d6",
        "outputId": "1948ce1b-27d4-409f-d9f1-154607b474f9"
      },
      "execution_count": null,
      "outputs": [
        {
          "output_type": "stream",
          "name": "stdout",
          "text": [
            "\n",
            "Taxa de Conversão por Cenário:\n",
            "Versão_Página\n",
            "A    0.105\n",
            "B    0.125\n",
            "Name: Conversões, dtype: float64\n",
            "\n",
            "Cenário com a Maior Taxa de Conversão: B\n"
          ]
        }
      ]
    },
    {
      "cell_type": "markdown",
      "source": [
        "2. Calcule qual o tamanho da amostra necessária para o desenvolvimento de um teste A/B, seguindo os seguintes critérios:"
      ],
      "metadata": {
        "id": "-Tnlzp8QnUsg"
      }
    },
    {
      "cell_type": "markdown",
      "source": [
        "a. O cenário A, da base, como o inicial, que funciona hoje."
      ],
      "metadata": {
        "id": "KVbE02IBnV2M"
      }
    },
    {
      "cell_type": "code",
      "source": [
        "# Taxa de conversão para o cenário A (base)\n",
        "taxa_conversao_cenario_A = 0.08\n"
      ],
      "metadata": {
        "id": "MY2VyX9Apqob"
      },
      "execution_count": null,
      "outputs": []
    },
    {
      "cell_type": "markdown",
      "source": [
        "R: A taxa de conversão atual para o cenário A (8%)."
      ],
      "metadata": {
        "id": "mDnaRAFSp3IL"
      }
    },
    {
      "cell_type": "markdown",
      "source": [
        "b. Considere 95% de confiança de que o efeito na conversão não foi aleatório com um nível de significância de 5% (alpha = 0,05)."
      ],
      "metadata": {
        "id": "KzZkOAy-p9Mn"
      }
    },
    {
      "cell_type": "code",
      "source": [
        "# Nível de confiança (95%)\n",
        "confianca = 0.95\n",
        "\n",
        "# Nível de significância (alpha)\n",
        "alpha = 0.05\n",
        "\n",
        "# Z-score para o nível de confiança\n",
        "Z_confianca = norm.ppf(confianca)\n",
        "\n",
        "# Z-score para o poder do teste\n",
        "Z_poder = norm.ppf(1 - alpha/2)\n",
        "\n",
        "# Calculando o tamanho da amostra necessário para o teste A/B\n",
        "n = (Z_confianca + Z_poder)**2\n",
        "\n",
        "# Arredondando para o próximo número inteiro\n",
        "n = np.ceil(n)\n",
        "\n",
        "print(\"Tamanho da amostra necessário para o teste A/B:\", int(n))\n"
      ],
      "metadata": {
        "colab": {
          "base_uri": "https://localhost:8080/"
        },
        "id": "7x7W6CQ2qeFK",
        "outputId": "3571a57b-90c6-4de9-ae1b-2dd8390ed57e"
      },
      "execution_count": null,
      "outputs": [
        {
          "output_type": "stream",
          "name": "stdout",
          "text": [
            "Tamanho da amostra necessário para o teste A/B: 13\n"
          ]
        }
      ]
    },
    {
      "cell_type": "markdown",
      "source": [
        "R: Tamanho da amostra necessário para o teste A/B: 13"
      ],
      "metadata": {
        "id": "5lP93mpcqxO4"
      }
    },
    {
      "cell_type": "markdown",
      "source": [
        "c. Também considere 80% de certeza conseguir capturar o efeito da nova abordagem."
      ],
      "metadata": {
        "id": "4bz6d_yZs0WV"
      }
    },
    {
      "cell_type": "code",
      "source": [
        "# Nível de confiança (95%)\n",
        "confianca = 0.95\n",
        "\n",
        "# Nível de significância (alpha)\n",
        "alpha = 0.05\n",
        "\n",
        "# Poder do teste (80%)\n",
        "poder = 0.8\n",
        "\n",
        "# Z-score para o nível de confiança\n",
        "Z_confianca = norm.ppf(confianca)\n",
        "\n",
        "# Z-score para o poder do teste\n",
        "Z_poder = norm.ppf(poder)\n",
        "\n",
        "# Calculando o tamanho da amostra necessário para o teste A/B\n",
        "n = (Z_confianca + Z_poder)**2\n",
        "\n",
        "# Arredondando para o próximo número inteiro\n",
        "n = np.ceil(n)\n",
        "\n",
        "print(\"Tamanho da amostra necessário para o teste A/B com 80% de poder:\", int(n))\n"
      ],
      "metadata": {
        "colab": {
          "base_uri": "https://localhost:8080/"
        },
        "id": "n5-ghlzpukw8",
        "outputId": "a8ab734a-20fe-43df-b84a-83029c70b08b"
      },
      "execution_count": null,
      "outputs": [
        {
          "output_type": "stream",
          "name": "stdout",
          "text": [
            "Tamanho da amostra necessário para o teste A/B com 80% de poder: 7\n"
          ]
        }
      ]
    },
    {
      "cell_type": "markdown",
      "source": [
        "R: Tamanho da amostra necessário para o teste A/B com 80% de poder: 7"
      ],
      "metadata": {
        "id": "alRTbhJ0u2rE"
      }
    },
    {
      "cell_type": "markdown",
      "source": [
        "d. O aumento para 10% de conversão."
      ],
      "metadata": {
        "id": "BG8ggPOt0t7N"
      }
    },
    {
      "cell_type": "code",
      "source": [
        "# Taxa de conversão no cenário A (base)\n",
        "taxa_A = 0.10\n",
        "\n",
        "# Taxa de conversão no cenário B (nova abordagem)\n",
        "taxa_B = 0.10 + 0.10  # Aumento para 10% de conversão\n",
        "\n",
        "# Diferença mínima detectável entre as taxas de conversão\n",
        "dif_min_detectavel = taxa_B - taxa_A\n",
        "\n",
        "# Nível de confiança (95%)\n",
        "confianca = 0.95\n",
        "\n",
        "# Nível de significância (alpha)\n",
        "alpha = 0.05\n",
        "\n",
        "# Poder do teste (80%)\n",
        "poder = 0.8\n",
        "\n",
        "# Z-score para o nível de confiança\n",
        "Z_confianca = norm.ppf(confianca)\n",
        "\n",
        "# Z-score para o poder do teste\n",
        "Z_poder = norm.ppf(poder)\n",
        "\n",
        "# Calculando o tamanho da amostra necessário para o teste A/B\n",
        "n = ((Z_confianca + Z_poder)**2) * ((taxa_A * (1 - taxa_A)) + (taxa_B * (1 - taxa_B))) / (dif_min_detectavel**2)\n",
        "\n",
        "# Arredondando para o próximo número inteiro\n",
        "n = np.ceil(n)\n",
        "\n",
        "print(\"Tamanho da amostra necessário para o teste A/B com aumento para 10% de conversão:\", int(n))\n"
      ],
      "metadata": {
        "colab": {
          "base_uri": "https://localhost:8080/"
        },
        "id": "GV6Yyc6C1gCj",
        "outputId": "a4bc3b0e-7000-4f3a-8230-ea2ed722c844"
      },
      "execution_count": null,
      "outputs": [
        {
          "output_type": "stream",
          "name": "stdout",
          "text": [
            "Tamanho da amostra necessário para o teste A/B com aumento para 10% de conversão: 155\n"
          ]
        }
      ]
    },
    {
      "cell_type": "markdown",
      "source": [
        "R: Tamanho da amostra necessário para o teste A/B com aumento para 10% de conversão: 155."
      ],
      "metadata": {
        "id": "V7ZzHMO80FZq"
      }
    },
    {
      "cell_type": "markdown",
      "source": [
        "Verifique a base pacientes.csv, os dados são fictícios. A sintetiza uma base de dados de um hospital que trata de pacientes com problemas cardíacos. Considere a base como a população, portanto as estatísticas da população são conhecidas. Responda as perguntas abaixo:"
      ],
      "metadata": {
        "id": "v6zLSxbH2HCc"
      }
    },
    {
      "cell_type": "markdown",
      "source": [
        "3. Considerando uma amostra de 45 números que representam o index do dataframe, índices= ([909, 751, 402, 400, 726, 39, 184, 269, 255, 769, 209, 715, 677, 381, 793, 697, 89, 280, 232, 756, 358, 36, 439, 768, 967, 699, 473, 222, 89, 639, 883, 558, 757, 84, 907, 895, 217, 224, 311, 348, 146, 505, 273, 957, 362]). Considerando essa amostra é possível dizer que a idade média das pessoas com problemas cardíacos é maior que 50 anos? Nível de significância igual a 5%."
      ],
      "metadata": {
        "id": "boaoVt-BzITQ"
      }
    },
    {
      "cell_type": "code",
      "source": [
        "# Carregar o arquivo pacientes.csv em um DataFrame\n",
        "df = pd.read_csv('/content/drive/MyDrive/pacientes.csv')\n",
        "\n",
        "# Visualizar os dados\n",
        "print(df.head())"
      ],
      "metadata": {
        "id": "_L5GkIjyzXC-"
      },
      "execution_count": null,
      "outputs": []
    },
    {
      "cell_type": "code",
      "source": [
        "# Índices da amostra\n",
        "indices_amostra = [909, 751, 402, 400, 726, 39, 184, 269, 255, 769, 209, 715, 677, 381, 793, 697, 89, 280, 232, 756, 358, 36, 439, 768, 967, 699, 473, 222, 89, 639, 883, 558, 757, 84, 907, 895, 217, 224, 311, 348, 146, 505, 273, 957, 362]\n",
        "\n",
        "# Selecionar as idades das pessoas com problemas cardíacos\n",
        "idades_pessoas_com_problemas_cardiacos = df.loc[indices_amostra, 'Idade']\n",
        "\n",
        "idades_pessoas_com_problemas_cardiacos.head()"
      ],
      "metadata": {
        "id": "sJqJ2B2EzYNJ"
      },
      "execution_count": null,
      "outputs": []
    },
    {
      "cell_type": "code",
      "source": [
        "# Calcular a média das idades\n",
        "media_idades = np.mean(idades_pessoas_com_problemas_cardiacos)\n",
        "print(\"Média das idades:\", media_idades)\n"
      ],
      "metadata": {
        "id": "7BxgU1WIzgUV"
      },
      "execution_count": null,
      "outputs": []
    },
    {
      "cell_type": "code",
      "source": [
        "# Nível de significância\n",
        "nivel_significancia = 0.05\n",
        "\n",
        "# Número de observações na amostra\n",
        "n = len(idades_pessoas_com_problemas_cardiacos)\n",
        "\n",
        "# Graus de liberdade\n",
        "graus_liberdade = n - 1\n",
        "\n",
        "# Estatística de teste t\n",
        "t_valor = (media_idades - 50) / (np.std(idades_pessoas_com_problemas_cardiacos, ddof=1) / np.sqrt(n))\n",
        "\n"
      ],
      "metadata": {
        "id": "EsDrHKTfzlvt"
      },
      "execution_count": null,
      "outputs": []
    },
    {
      "cell_type": "code",
      "source": [
        "# Cálculo do p-valor (usando a distribuição t de Student)\n",
        "from scipy.stats import t\n",
        "p_valor = 1 - t.cdf(t_valor, graus_liberdade)\n",
        "\n",
        "# Imprimir os resultados\n",
        "print(\"Estatística de teste t:\", t_valor)\n",
        "print(\"p-valor:\", p_valor)\n",
        "\n",
        "# Comparar o p-valor com o nível de significância\n",
        "if p_valor < nivel_significancia:\n",
        "    print(\"Rejeitar a hipótese nula\")\n",
        "    print(\"A idade média das pessoas com problemas cardíacos é estatisticamente maior que 50 anos.\")\n",
        "else:\n",
        "    print(\"Não rejeitar a hipótese nula\")\n",
        "    print(\"Não há evidências suficientes para afirmar que a idade média das pessoas com problemas cardíacos é maior que 50 anos.\")\n",
        "    # Esse código calculará corretamente o p-valor."
      ],
      "metadata": {
        "id": "HVVqlT7zzqY5"
      },
      "execution_count": null,
      "outputs": []
    },
    {
      "cell_type": "markdown",
      "source": [
        "Com um nível de significância de 0.05, não há evidências suficientes para afirmar que a idade média das pessoas com problemas cardíacos é maior que 50 anos."
      ],
      "metadata": {
        "id": "4eFYpokQzwk9"
      }
    },
    {
      "cell_type": "markdown",
      "source": [
        "4. Queremos entender que tipo de amostra estamos lidando se dividirmos os conjuntos em 2, sendo um com pessoas que têm condições de saúde adicionais e o outro com pessoas saudáveis. Seria dependente ou independente?"
      ],
      "metadata": {
        "id": "649cHLXGz4JP"
      }
    },
    {
      "cell_type": "code",
      "source": [
        "print(df.columns)"
      ],
      "metadata": {
        "id": "g-YRJNjjzr-Q"
      },
      "execution_count": null,
      "outputs": []
    },
    {
      "cell_type": "code",
      "source": [
        "# Dividindo o DataFrame em dois grupos com base no estado de saúde\n",
        "grupo_saude_adicional = df[df['Estado_Saude'] == \"Com condições de saúde adicionais\"]\n",
        "grupo_saudavel = df[df['Estado_Saude'] == \"Saudável\"]\n",
        "\n",
        "# Verificando se as amostras são dependentes ou independentes\n",
        "# Teste t de Student para amostras independentes\n",
        "t_statistic, p_valor = stats.ttest_ind(grupo_saude_adicional, grupo_saudavel)\n",
        "\n",
        "# Definindo um nível de significância\n",
        "nivel_significancia = 0.05\n",
        "\n",
        "# Verificando se as amostras são dependentes ou independentes com base no valor-p\n",
        "if p_valor.any() < nivel_significancia:\n",
        "    print(\"Com um nível de significância de\", nivel_significancia)\n",
        "    print(\"As amostras são independentes.\")\n",
        "else:\n",
        "    print(\"Com um nível de significância de\", nivel_significancia)\n",
        "    print(\"As amostras não são independentes.\")\n",
        "\n",
        "# Comparando o valor-p para verificar a significância estatística\n",
        "if p_valor.any() < nivel_significancia:\n",
        "    print(\"O teste t de Student para amostras independentes é significativo (valor-p =\", p_valor, \")\")\n",
        "else:\n",
        "    print(\"O teste t de Student para amostras independentes não é significativo (valor-p =\", p_valor, \")\")"
      ],
      "metadata": {
        "id": "l9EWiY4X0Ket"
      },
      "execution_count": null,
      "outputs": []
    },
    {
      "cell_type": "markdown",
      "source": [],
      "metadata": {
        "id": "U7J5fF660Bni"
      }
    },
    {
      "cell_type": "markdown",
      "source": [],
      "metadata": {
        "id": "F11CIvuHzxrb"
      }
    },
    {
      "cell_type": "markdown",
      "source": [],
      "metadata": {
        "id": "dGRYasTHzN5P"
      }
    }
  ]
}